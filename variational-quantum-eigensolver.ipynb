{
 "cells": [
  {
   "cell_type": "markdown",
   "id": "ed2b3e17",
   "metadata": {},
   "source": [
    "https://learning.quantum.ibm.com/tutorial/variational-quantum-eigensolver"
   ]
  },
  {
   "cell_type": "code",
   "execution_count": null,
   "id": "dec4e37d",
   "metadata": {},
   "outputs": [],
   "source": []
  },
  {
   "cell_type": "code",
   "execution_count": 6,
   "id": "a0a48442",
   "metadata": {
    "tags": []
   },
   "outputs": [
    {
     "name": "stdout",
     "output_type": "stream",
     "text": [
      "Requirement already satisfied: qiskit_nature in /opt/conda/lib/python3.11/site-packages (0.7.2)\n",
      "Requirement already satisfied: qiskit in /opt/conda/lib/python3.11/site-packages (1.3.1)\n",
      "Requirement already satisfied: qiskit_ibm_runtime in /opt/conda/lib/python3.11/site-packages (0.34.0)\n",
      "Requirement already satisfied: pylatexenc in /opt/conda/lib/python3.11/site-packages (2.10)\n",
      "Requirement already satisfied: pyscf in /opt/conda/lib/python3.11/site-packages (2.7.0)\n",
      "Requirement already satisfied: qiskit_algorithms in /opt/conda/lib/python3.11/site-packages (0.3.1)\n",
      "Requirement already satisfied: scipy>=1.4 in /opt/conda/lib/python3.11/site-packages (from qiskit_nature) (1.13.1)\n",
      "Requirement already satisfied: numpy>=1.17 in /opt/conda/lib/python3.11/site-packages (from qiskit_nature) (1.26.4)\n",
      "Requirement already satisfied: psutil>=5 in /opt/conda/lib/python3.11/site-packages (from qiskit_nature) (5.9.8)\n",
      "Requirement already satisfied: setuptools>=40.1.0 in /opt/conda/lib/python3.11/site-packages (from qiskit_nature) (68.2.2)\n",
      "Requirement already satisfied: typing-extensions in /opt/conda/lib/python3.11/site-packages (from qiskit_nature) (4.12.2)\n",
      "Requirement already satisfied: h5py in /opt/conda/lib/python3.11/site-packages (from qiskit_nature) (3.12.1)\n",
      "Requirement already satisfied: rustworkx>=0.12 in /opt/conda/lib/python3.11/site-packages (from qiskit_nature) (0.15.1)\n",
      "Requirement already satisfied: sympy>=1.3 in /opt/conda/lib/python3.11/site-packages (from qiskit) (1.13.3)\n",
      "Requirement already satisfied: dill>=0.3 in /opt/conda/lib/python3.11/site-packages (from qiskit) (0.3.8)\n",
      "Requirement already satisfied: python-dateutil>=2.8.0 in /opt/conda/lib/python3.11/site-packages (from qiskit) (2.9.0)\n",
      "Requirement already satisfied: stevedore>=3.0.0 in /opt/conda/lib/python3.11/site-packages (from qiskit) (5.4.0)\n",
      "Requirement already satisfied: symengine<0.14,>=0.11 in /opt/conda/lib/python3.11/site-packages (from qiskit) (0.13.0)\n",
      "Requirement already satisfied: requests>=2.19 in /opt/conda/lib/python3.11/site-packages (from qiskit_ibm_runtime) (2.31.0)\n",
      "Requirement already satisfied: requests-ntlm>=1.1.0 in /opt/conda/lib/python3.11/site-packages (from qiskit_ibm_runtime) (1.3.0)\n",
      "Requirement already satisfied: urllib3>=1.21.1 in /opt/conda/lib/python3.11/site-packages (from qiskit_ibm_runtime) (2.1.0)\n",
      "Requirement already satisfied: websocket-client>=1.5.1 in /opt/conda/lib/python3.11/site-packages (from qiskit_ibm_runtime) (1.8.0)\n",
      "Requirement already satisfied: ibm-platform-services>=0.22.6 in /opt/conda/lib/python3.11/site-packages (from qiskit_ibm_runtime) (0.59.0)\n",
      "Requirement already satisfied: pydantic<2.10,>=2.5.0 in /opt/conda/lib/python3.11/site-packages (from qiskit_ibm_runtime) (2.9.2)\n",
      "Requirement already satisfied: ibm-cloud-sdk-core<4.0.0,>=3.22.0 in /opt/conda/lib/python3.11/site-packages (from ibm-platform-services>=0.22.6->qiskit_ibm_runtime) (3.22.0)\n",
      "Requirement already satisfied: annotated-types>=0.6.0 in /opt/conda/lib/python3.11/site-packages (from pydantic<2.10,>=2.5.0->qiskit_ibm_runtime) (0.7.0)\n",
      "Requirement already satisfied: pydantic-core==2.23.4 in /opt/conda/lib/python3.11/site-packages (from pydantic<2.10,>=2.5.0->qiskit_ibm_runtime) (2.23.4)\n",
      "Requirement already satisfied: six>=1.5 in /opt/conda/lib/python3.11/site-packages (from python-dateutil>=2.8.0->qiskit) (1.16.0)\n",
      "Requirement already satisfied: charset-normalizer<4,>=2 in /opt/conda/lib/python3.11/site-packages (from requests>=2.19->qiskit_ibm_runtime) (3.3.2)\n",
      "Requirement already satisfied: idna<4,>=2.5 in /opt/conda/lib/python3.11/site-packages (from requests>=2.19->qiskit_ibm_runtime) (3.7)\n",
      "Requirement already satisfied: certifi>=2017.4.17 in /opt/conda/lib/python3.11/site-packages (from requests>=2.19->qiskit_ibm_runtime) (2024.6.2)\n",
      "Requirement already satisfied: cryptography>=1.3 in /opt/conda/lib/python3.11/site-packages (from requests-ntlm>=1.1.0->qiskit_ibm_runtime) (42.0.8)\n",
      "Requirement already satisfied: pyspnego>=0.4.0 in /opt/conda/lib/python3.11/site-packages (from requests-ntlm>=1.1.0->qiskit_ibm_runtime) (0.11.0)\n",
      "Requirement already satisfied: pbr>=2.0.0 in /opt/conda/lib/python3.11/site-packages (from stevedore>=3.0.0->qiskit) (6.1.0)\n",
      "Requirement already satisfied: mpmath<1.4,>=1.1.0 in /opt/conda/lib/python3.11/site-packages (from sympy>=1.3->qiskit) (1.3.0)\n",
      "Requirement already satisfied: cffi>=1.12 in /opt/conda/lib/python3.11/site-packages (from cryptography>=1.3->requests-ntlm>=1.1.0->qiskit_ibm_runtime) (1.16.0)\n",
      "Requirement already satisfied: PyJWT<3.0.0,>=2.8.0 in /opt/conda/lib/python3.11/site-packages (from ibm-cloud-sdk-core<4.0.0,>=3.22.0->ibm-platform-services>=0.22.6->qiskit_ibm_runtime) (2.10.1)\n",
      "Requirement already satisfied: pycparser in /opt/conda/lib/python3.11/site-packages (from cffi>=1.12->cryptography>=1.3->requests-ntlm>=1.1.0->qiskit_ibm_runtime) (2.21)\n",
      "\u001b[33mWARNING: Running pip as the 'root' user can result in broken permissions and conflicting behaviour with the system package manager. It is recommended to use a virtual environment instead: https://pip.pypa.io/warnings/venv\u001b[0m\u001b[33m\n",
      "\u001b[0m"
     ]
    }
   ],
   "source": [
    "!pip install qiskit_nature qiskit qiskit_ibm_runtime pylatexenc pyscf qiskit_algorithms\n",
    "\n",
    "import numpy as np\n",
    "\n",
    "# Pre-defined ansatz circuit and operator class for Hamiltonian\n",
    "from qiskit.circuit.library import EfficientSU2\n",
    "from qiskit.quantum_info import SparsePauliOp\n",
    "\n",
    "# SciPy minimizer routine\n",
    "from scipy.optimize import minimize\n",
    "\n",
    "# Plotting functions\n",
    "import matplotlib.pyplot as plt"
   ]
  },
  {
   "cell_type": "code",
   "execution_count": 8,
   "id": "bc380c46",
   "metadata": {
    "tags": []
   },
   "outputs": [],
   "source": [
    "# runtime imports\n",
    "from qiskit_ibm_runtime import QiskitRuntimeService, Session\n",
    "from qiskit_ibm_runtime import EstimatorV2 as Estimator\n",
    "\n",
    "# To run on hardware, select the backend with the fewest number of jobs in the queue\n",
    "service = QiskitRuntimeService(channel=\"ibm_quantum\")\n",
    "backend = service.least_busy(operational=True, simulator=False)"
   ]
  },
  {
   "cell_type": "markdown",
   "id": "8ae64d5d",
   "metadata": {},
   "source": [
    "### calculating qubit hamiltonian (use with more computational resources)"
   ]
  },
  {
   "cell_type": "code",
   "execution_count": 9,
   "id": "23cb2267",
   "metadata": {
    "tags": []
   },
   "outputs": [],
   "source": [
    "from qiskit_nature.units import DistanceUnit\n",
    "from qiskit_nature.second_q.drivers import PySCFDriver\n",
    "from qiskit_nature.second_q.mappers import JordanWignerMapper"
   ]
  },
  {
   "cell_type": "code",
   "execution_count": 10,
   "id": "f798b07e",
   "metadata": {
    "tags": []
   },
   "outputs": [
    {
     "name": "stdout",
     "output_type": "stream",
     "text": [
      "<qiskit_nature.second_q.problems.electronic_structure_problem.ElectronicStructureProblem object at 0x7fab892210d0>\n"
     ]
    }
   ],
   "source": [
    "driver = PySCFDriver(\n",
    "    atom=\"O 0 0 0; H 0.757 0.586 0; H -0.757 0.586 0\",\n",
    "    basis=\"sto3g\",\n",
    "    charge=0,\n",
    "    spin=0,\n",
    "    unit=DistanceUnit.ANGSTROM,\n",
    ")\n",
    "\n",
    "problem = driver.run()\n",
    "print(problem)\n",
    "\n",
    "hamiltonian = problem.hamiltonian.second_q_op()\n",
    "\n",
    "mapper = JordanWignerMapper()\n",
    "qubit_hamiltonian = mapper.map(hamiltonian)"
   ]
  },
  {
   "cell_type": "code",
   "execution_count": 17,
   "id": "0ad66539",
   "metadata": {
    "tags": []
   },
   "outputs": [
    {
     "name": "stdout",
     "output_type": "stream",
     "text": [
      "SparsePauliOp(['IIIIIIIIIIIIII', 'IIIIIIIIIIIIIZ', 'IIIIIIIIIIIIYY', 'IIIIIIIIIIIIXX', 'IIIIIIIIIIYZZY', 'IIIIIIIIIIXZZX', 'IIIIIIIIYZZZZY', 'IIIIIIIIXZZZZX', 'IIIIIIIIIIIIZI', 'IIIIIIIIIIYZYI', 'IIIIIIIIIIXZXI', 'IIIIIIIIYZZZYI', 'IIIIIIIIXZZZXI', 'IIIIIIIIIIIZII', 'IIIIIIIYZZZYII', 'IIIIIIIXZZZXII', 'IIIIIIIIIIZIII', 'IIIIIIIIYZYIII', 'IIIIIIIIXZXIII', 'IIIIIIIIIZIIII', 'IIIIIIIIZIIIII', 'IIIIIIIZIIIIII', 'IIIIIIZIIIIIII', 'IIIIIYYIIIIIII', 'IIIIIXXIIIIIII', 'IIIYZZYIIIIIII', 'IIIXZZXIIIIIII', 'IYZZZZYIIIIIII', 'IXZZZZXIIIIIII', 'IIIIIZIIIIIIII', 'IIIYZYIIIIIIII', 'IIIXZXIIIIIIII', 'IYZZZYIIIIIIII', 'IXZZZXIIIIIIII', 'IIIIZIIIIIIIII', 'YZZZYIIIIIIIII', 'XZZZXIIIIIIIII', 'IIIZIIIIIIIIII', 'IYZYIIIIIIIIII', 'IXZXIIIIIIIIII', 'IIZIIIIIIIIIII', 'IZIIIIIIIIIIII', 'ZIIIIIIIIIIIII', 'IIIIIIIIIIIIZZ', 'IIIIIIIIIIYZYZ', 'IIIIIIIIIIXZXZ', 'IIIIIIIIYZZZYZ', 'IIIIIIIIXZZZXZ', 'IIIIIIIIIIIZIZ', 'IIIIIIIYZZZYIZ', 'IIIIIIIXZZZXIZ', 'IIIIIIIIIIZIIZ', 'IIIIIIIIYZYIIZ', 'IIIIIIIIXZXIIZ', 'IIIIIIIIIZIIIZ', 'IIIIIIIIZIIIIZ', 'IIIIIIIZIIIIIZ', 'IIIIIIZIIIIIIZ', 'IIIIIYYIIIIIIZ', 'IIIIIXXIIIIIIZ', 'IIIYZZYIIIIIIZ', 'IIIXZZXIIIIIIZ', 'IYZZZZYIIIIIIZ', 'IXZZZZXIIIIIIZ', 'IIIIIZIIIIIIIZ', 'IIIYZYIIIIIIIZ', 'IIIXZXIIIIIIIZ', 'IYZZZYIIIIIIIZ', 'IXZZZXIIIIIIIZ', 'IIIIZIIIIIIIIZ', 'YZZZYIIIIIIIIZ', 'XZZZXIIIIIIIIZ', 'IIIZIIIIIIIIIZ', 'IYZYIIIIIIIIIZ', 'IXZXIIIIIIIIIZ', 'IIZIIIIIIIIIIZ', 'IZIIIIIIIIIIIZ', 'ZIIIIIIIIIIIIZ', 'IIIIIIIIIIYZIY', 'IIIIIIIIIIXZIX', 'IIIIIIIIYZZZIY', 'IIIIIIIIXZZZIX', 'IIIIIIIIIIIZYY', 'IIIIIIIIIIIZXX', 'IIIIIIIYZZZYYY', 'IIIIIIIXZZZXYY', 'IIIIIIIYZZZXXY', 'IIIIIIIXZZZYYX', 'IIIIIIIYZZZYXX', 'IIIIIIIXZZZXXX', 'IIIIIIIIIIZIYY', 'IIIIIIIIIIZIXX', 'IIIIIIIIYZYIYY', 'IIIIIIIIXZXIYY', 'IIIIIIIIYZXIXY', 'IIIIIIIIXZYIYX', 'IIIIIIIIYZYIXX', 'IIIIIIIIXZXIXX', 'IIIIIIIIIZIIYY', 'IIIIIIIIIZIIXX', 'IIIIIIIIZIIIYY', 'IIIIIIIIZIIIXX', 'IIIIIIIZIIIIYY', 'IIIIIIIZIIIIXX', 'IIIIIIZIIIIIYY', 'IIIIIIZIIIIIXX', 'IIIIIYYIIIIIYY', 'IIIIIXXIIIIIYY', 'IIIIIYYIIIIIXX', 'IIIIIXXIIIIIXX', 'IIIYZZYIIIIIYY', 'IIIXZZXIIIIIYY', 'IIIYZZYIIIIIXX', 'IIIXZZXIIIIIXX', 'IYZZZZYIIIIIYY', 'IXZZZZXIIIIIYY', 'IYZZZZYIIIIIXX', 'IXZZZZXIIIIIXX', 'IIIIIZIIIIIIYY', 'IIIIIZIIIIIIXX', 'IIIYZYIIIIIIYY', 'IIIXZXIIIIIIYY', 'IIIYZYIIIIIIXX', 'IIIXZXIIIIIIXX', 'IYZZZYIIIIIIYY', 'IXZZZXIIIIIIYY', 'IYZZZYIIIIIIXX', 'IXZZZXIIIIIIXX', 'IIIIZIIIIIIIYY', 'IIIIZIIIIIIIXX', 'YZZZYIIIIIIIYY', 'XZZZXIIIIIIIYY', 'YZZZYIIIIIIIXX', 'XZZZXIIIIIIIXX', 'IIIZIIIIIIIIYY', 'IIIZIIIIIIIIXX', 'IYZYIIIIIIIIYY', 'IXZXIIIIIIIIYY', 'IYZYIIIIIIIIXX', 'IXZXIIIIIIIIXX', 'IIZIIIIIIIIIYY', 'IIZIIIIIIIIIXX', 'IZIIIIIIIIIIYY', 'IZIIIIIIIIIIXX', 'ZIIIIIIIIIIIYY', 'ZIIIIIIIIIIIXX', 'IIIIIIIIIIYIZY', 'IIIIIIIIIIXIZX', 'IIIIIIIIYZZIZY', 'IIIIIIIIXZZIZX', 'IIIIIIIYZZYYZY', 'IIIIIIIXZZXYZY', 'IIIIIIIYZZXXZY', 'IIIIIIIXZZYYZX', 'IIIIIIIYZZYXZX', 'IIIIIIIXZZXXZX', 'IIIIIIIYYIIYZY', 'IIIIIIIXXIIYZY', 'IIIIIIIYXIIXZY', 'IIIIIIIXYIIYZX', 'IIIIIIIYYIIXZX', 'IIIIIIIXXIIXZX', 'IIIIYZYIIIIYZY', 'IIIIXZXIIIIYZY', 'IIIIYZYIIIIXZX', 'IIIIXZXIIIIXZX', 'YZZZZZYIIIIYZY', 'XZZZZZXIIIIYZY', 'YZZZZZYIIIIXZX', 'XZZZZZXIIIIXZX', 'IIIIYYIIIIIYZY', 'IIIIXXIIIIIYZY', 'IIIIYYIIIIIXZX', 'IIIIXXIIIIIXZX', 'YZZZZYIIIIIYZY', 'XZZZZXIIIIIYZY', 'YZZZZYIIIIIXZX', 'XZZZZXIIIIIXZX', 'IIIYYIIIIIIYZY', 'IIIXXIIIIIIYZY', 'IIIYYIIIIIIXZX', 'IIIXXIIIIIIXZX', 'IYZZYIIIIIIYZY', 'IXZZXIIIIIIYZY', 'IYZZYIIIIIIXZX', 'IXZZXIIIIIIXZX', 'YZZYIIIIIIIYZY', 'XZZXIIIIIIIYZY', 'YZZYIIIIIIIXZX', 'XZZXIIIIIIIXZX', 'YYIIIIIIIIIYZY', 'XXIIIIIIIIIYZY', 'YYIIIIIIIIIXZX', 'XXIIIIIIIIIXZX', 'IIIIIIIIYZIZZY', 'IIIIIIIIXZIZZX', 'IIIIIIIIIZYZZY', 'IIIIIIIIIZXZZX', 'IIIIIIIIZIYZZY', 'IIIIIIIIZIXZZX', 'IIIIIIIZIIYZZY', 'IIIIIIIZIIXZZX', 'IIIIIIZIIIYZZY', 'IIIIIIZIIIXZZX', 'IIIIIYYIIIYZZY', 'IIIIIXXIIIYZZY', 'IIIIIYYIIIXZZX', 'IIIIIXXIIIXZZX', 'IIIYZZYIIIYZZY', 'IIIXZZXIIIYZZY', 'IIIYZZYIIIXZZX', 'IIIXZZXIIIXZZX', 'IYZZZZYIIIYZZY', 'IXZZZZXIIIYZZY', 'IYZZZZYIIIXZZX', 'IXZZZZXIIIXZZX', 'IIIIIZIIIIYZZY', 'IIIIIZIIIIXZZX', 'IIIYZYIIIIYZZY', 'IIIXZXIIIIYZZY', 'IIIYZYIIIIXZZX', 'IIIXZXIIIIXZZX', 'IYZZZYIIIIYZZY', 'IXZZZXIIIIYZZY', 'IYZZZYIIIIXZZX', 'IXZZZXIIIIXZZX', 'IIIIZIIIIIYZZY', 'IIIIZIIIIIXZZX', 'YZZZYIIIIIYZZY', 'XZZZXIIIIIYZZY', 'YZZZYIIIIIXZZX', 'XZZZXIIIIIXZZX', 'IIIZIIIIIIYZZY', 'IIIZIIIIIIXZZX', 'IYZYIIIIIIYZZY', 'IXZXIIIIIIYZZY', 'IYZYIIIIIIXZZX', 'IXZXIIIIIIXZZX', 'IIZIIIIIIIYZZY', 'IIZIIIIIIIXZZX', 'IZIIIIIIIIYZZY', 'IZIIIIIIIIXZZX', 'ZIIIIIIIIIYZZY', 'ZIIIIIIIIIXZZX', 'IIIIIIIIYIZZZY', 'IIIIIIIIXIZZZX', 'IIYZZZYIIYZZZY', 'IIXZZZXIIYZZZY', 'IIYZZZYIIXZZZX', 'IIXZZZXIIXZZZX', 'IIYZZYIIIYZZZY', 'IIXZZXIIIYZZZY', 'IIYZZYIIIXZZZX', 'IIXZZXIIIXZZZX', 'IIYYIIIIIYZZZY', 'IIXXIIIIIYZZZY', 'IIYYIIIIIXZZZX', 'IIXXIIIIIXZZZX', 'IYYIIIIIIYZZZY', 'IXXIIIIIIYZZZY', 'IYYIIIIIIXZZZX', 'IXXIIIIIIXZZZX', 'IIIIIIIZYZZZZY', 'IIIIIIIZXZZZZX', 'IIIIIIZIYZZZZY', 'IIIIIIZIXZZZZX', 'IIIIIYYIYZZZZY', 'IIIIIXXIYZZZZY', 'IIIIIYYIXZZZZX', 'IIIIIXXIXZZZZX', 'IIIYZZYIYZZZZY', 'IIIXZZXIYZZZZY', 'IIIYZZYIXZZZZX', 'IIIXZZXIXZZZZX', 'IYZZZZYIYZZZZY', 'IXZZZZXIYZZZZY', 'IYZZZZYIXZZZZX', 'IXZZZZXIXZZZZX', 'IIIIIZIIYZZZZY', 'IIIIIZIIXZZZZX', 'IIIYZYIIYZZZZY', 'IIIXZXIIYZZZZY', 'IIIYZYIIXZZZZX', 'IIIXZXIIXZZZZX', 'IYZZZYIIYZZZZY', 'IXZZZXIIYZZZZY', 'IYZZZYIIXZZZZX', 'IXZZZXIIXZZZZX', 'IIIIZIIIYZZZZY', 'IIIIZIIIXZZZZX', 'YZZZYIIIYZZZZY', 'XZZZXIIIYZZZZY', 'YZZZYIIIXZZZZX', 'XZZZXIIIXZZZZX', 'IIIZIIIIYZZZZY', 'IIIZIIIIXZZZZX', 'IYZYIIIIYZZZZY', 'IXZXIIIIYZZZZY', 'IYZYIIIIXZZZZX', 'IXZXIIIIXZZZZX', 'IIZIIIIIYZZZZY', 'IIZIIIIIXZZZZX', 'IZIIIIIIYZZZZY', 'IZIIIIIIXZZZZX', 'ZIIIIIIIYZZZZY', 'ZIIIIIIIXZZZZX', 'IIIIYZYYZZZZZY', 'IIIIXZXYZZZZZY', 'IIIIYZYXZZZZZX', 'IIIIXZXXZZZZZX', 'YZZZZZYYZZZZZY', 'XZZZZZXYZZZZZY', 'YZZZZZYXZZZZZX', 'XZZZZZXXZZZZZX', 'IIIIYYIYZZZZZY', 'IIIIXXIYZZZZZY', 'IIIIYYIXZZZZZX', 'IIIIXXIXZZZZZX', 'YZZZZYIYZZZZZY', 'XZZZZXIYZZZZZY', 'YZZZZYIXZZZZZX', 'XZZZZXIXZZZZZX', 'IIIYYIIYZZZZZY', 'IIIXXIIYZZZZZY', 'IIIYYIIXZZZZZX', 'IIIXXIIXZZZZZX', 'IYZZYIIYZZZZZY', 'IXZZXIIYZZZZZY', 'IYZZYIIXZZZZZX', 'IXZZXIIXZZZZZX', 'YZZYIIIYZZZZZY', 'XZZXIIIYZZZZZY', 'YZZYIIIXZZZZZX', 'XZZXIIIXZZZZZX', 'YYIIIIIYZZZZZY', 'XXIIIIIYZZZZZY', 'YYIIIIIXZZZZZX', 'XXIIIIIXZZZZZX', 'IIIIIIIIIIIZZI', 'IIIIIIIYZZZYZI', 'IIIIIIIXZZZXZI', 'IIIIIIIIIIZIZI', 'IIIIIIIIYZYIZI', 'IIIIIIIIXZXIZI', 'IIIIIIIIIZIIZI', 'IIIIIIIIZIIIZI', 'IIIIIIIZIIIIZI', 'IIIIIIZIIIIIZI', 'IIIIIYYIIIIIZI', 'IIIIIXXIIIIIZI', 'IIIYZZYIIIIIZI', 'IIIXZZXIIIIIZI', 'IYZZZZYIIIIIZI', 'IXZZZZXIIIIIZI', 'IIIIIZIIIIIIZI', 'IIIYZYIIIIIIZI', 'IIIXZXIIIIIIZI', 'IYZZZYIIIIIIZI', 'IXZZZXIIIIIIZI', 'IIIIZIIIIIIIZI', 'YZZZYIIIIIIIZI', 'XZZZXIIIIIIIZI', 'IIIZIIIIIIIIZI', 'IYZYIIIIIIIIZI', 'IXZXIIIIIIIIZI', 'IIZIIIIIIIIIZI', 'IZIIIIIIIIIIZI', 'ZIIIIIIIIIIIZI', 'IIIIIIIIIIYIYI', 'IIIIIIIIIIXIXI', 'IIIIIIIIYZZIYI', 'IIIIIIIIXZZIXI', 'IIIIIIIYZZYYYI', 'IIIIIIIXZZXYYI', 'IIIIIIIYZZXXYI', 'IIIIIIIXZZYYXI', 'IIIIIIIYZZYXXI', 'IIIIIIIXZZXXXI', 'IIIIIIIYYIIYYI', 'IIIIIIIXXIIYYI', 'IIIIIIIYXIIXYI', 'IIIIIIIXYIIYXI', 'IIIIIIIYYIIXXI', 'IIIIIIIXXIIXXI', 'IIIIYZYIIIIYYI', 'IIIIXZXIIIIYYI', 'IIIIYZYIIIIXXI', 'IIIIXZXIIIIXXI', 'YZZZZZYIIIIYYI', 'XZZZZZXIIIIYYI', 'YZZZZZYIIIIXXI', 'XZZZZZXIIIIXXI', 'IIIIYYIIIIIYYI', 'IIIIXXIIIIIYYI', 'IIIIYYIIIIIXXI', 'IIIIXXIIIIIXXI', 'YZZZZYIIIIIYYI', 'XZZZZXIIIIIYYI', 'YZZZZYIIIIIXXI', 'XZZZZXIIIIIXXI', 'IIIYYIIIIIIYYI', 'IIIXXIIIIIIYYI', 'IIIYYIIIIIIXXI', 'IIIXXIIIIIIXXI', 'IYZZYIIIIIIYYI', 'IXZZXIIIIIIYYI', 'IYZZYIIIIIIXXI', 'IXZZXIIIIIIXXI', 'YZZYIIIIIIIYYI', 'XZZXIIIIIIIYYI', 'YZZYIIIIIIIXXI', 'XZZXIIIIIIIXXI', 'YYIIIIIIIIIYYI', 'XXIIIIIIIIIYYI', 'YYIIIIIIIIIXXI', 'XXIIIIIIIIIXXI', 'IIIIIIIIYZIZYI', 'IIIIIIIIXZIZXI', 'IIIIIIIIIZYZYI', 'IIIIIIIIIZXZXI', 'IIIIIIIIZIYZYI', 'IIIIIIIIZIXZXI', 'IIIIIIIZIIYZYI', 'IIIIIIIZIIXZXI', 'IIIIIIZIIIYZYI', 'IIIIIIZIIIXZXI', 'IIIIIYYIIIYZYI', 'IIIIIXXIIIYZYI', 'IIIIIYYIIIXZXI', 'IIIIIXXIIIXZXI', 'IIIYZZYIIIYZYI', 'IIIXZZXIIIYZYI', 'IIIYZZYIIIXZXI', 'IIIXZZXIIIXZXI', 'IYZZZZYIIIYZYI', 'IXZZZZXIIIYZYI', 'IYZZZZYIIIXZXI', 'IXZZZZXIIIXZXI', 'IIIIIZIIIIYZYI', 'IIIIIZIIIIXZXI', 'IIIYZYIIIIYZYI', 'IIIXZXIIIIYZYI', 'IIIYZYIIIIXZXI', 'IIIXZXIIIIXZXI', 'IYZZZYIIIIYZYI', 'IXZZZXIIIIYZYI', 'IYZZZYIIIIXZXI', 'IXZZZXIIIIXZXI', 'IIIIZIIIIIYZYI', 'IIIIZIIIIIXZXI', 'YZZZYIIIIIYZYI', 'XZZZXIIIIIYZYI', 'YZZZYIIIIIXZXI', 'XZZZXIIIIIXZXI', 'IIIZIIIIIIYZYI', 'IIIZIIIIIIXZXI', 'IYZYIIIIIIYZYI', 'IXZXIIIIIIYZYI', 'IYZYIIIIIIXZXI', 'IXZXIIIIIIXZXI', 'IIZIIIIIIIYZYI', 'IIZIIIIIIIXZXI', 'IZIIIIIIIIYZYI', 'IZIIIIIIIIXZXI', 'ZIIIIIIIIIYZYI', 'ZIIIIIIIIIXZXI', 'IIIIIIIIYIZZYI', 'IIIIIIIIXIZZXI', 'IIYZZZYIIYZZYI', 'IIXZZZXIIYZZYI', 'IIYZZZYIIXZZXI', 'IIXZZZXIIXZZXI', 'IIYZZYIIIYZZYI', 'IIXZZXIIIYZZYI', 'IIYZZYIIIXZZXI', 'IIXZZXIIIXZZXI', 'IIYYIIIIIYZZYI', 'IIXXIIIIIYZZYI', 'IIYYIIIIIXZZXI', 'IIXXIIIIIXZZXI', 'IYYIIIIIIYZZYI', 'IXXIIIIIIYZZYI', 'IYYIIIIIIXZZXI', 'IXXIIIIIIXZZXI', 'IIIIIIIZYZZZYI', 'IIIIIIIZXZZZXI', 'IIIIIIZIYZZZYI', 'IIIIIIZIXZZZXI', 'IIIIIYYIYZZZYI', 'IIIIIXXIYZZZYI', 'IIIIIYYIXZZZXI', 'IIIIIXXIXZZZXI', 'IIIYZZYIYZZZYI', 'IIIXZZXIYZZZYI', 'IIIYZZYIXZZZXI', 'IIIXZZXIXZZZXI', 'IYZZZZYIYZZZYI', 'IXZZZZXIYZZZYI', 'IYZZZZYIXZZZXI', 'IXZZZZXIXZZZXI', 'IIIIIZIIYZZZYI', 'IIIIIZIIXZZZXI', 'IIIYZYIIYZZZYI', 'IIIXZXIIYZZZYI', 'IIIYZYIIXZZZXI', 'IIIXZXIIXZZZXI', 'IYZZZYIIYZZZYI', 'IXZZZXIIYZZZYI', 'IYZZZYIIXZZZXI', 'IXZZZXIIXZZZXI', 'IIIIZIIIYZZZYI', 'IIIIZIIIXZZZXI', 'YZZZYIIIYZZZYI', 'XZZZXIIIYZZZYI', 'YZZZYIIIXZZZXI', 'XZZZXIIIXZZZXI', 'IIIZIIIIYZZZYI', 'IIIZIIIIXZZZXI', 'IYZYIIIIYZZZYI', 'IXZXIIIIYZZZYI', 'IYZYIIIIXZZZXI', 'IXZXIIIIXZZZXI', 'IIZIIIIIYZZZYI', 'IIZIIIIIXZZZXI', 'IZIIIIIIYZZZYI', 'IZIIIIIIXZZZXI', 'ZIIIIIIIYZZZYI', 'ZIIIIIIIXZZZXI', 'IIIIYZYYZZZZYI', 'IIIIXZXYZZZZYI', 'IIIIYZYXZZZZXI', 'IIIIXZXXZZZZXI', 'YZZZZZYYZZZZYI', 'XZZZZZXYZZZZYI', 'YZZZZZYXZZZZXI', 'XZZZZZXXZZZZXI', 'IIIIYYIYZZZZYI', 'IIIIXXIYZZZZYI', 'IIIIYYIXZZZZXI', 'IIIIXXIXZZZZXI', 'YZZZZYIYZZZZYI', 'XZZZZXIYZZZZYI', 'YZZZZYIXZZZZXI', 'XZZZZXIXZZZZXI', 'IIIYYIIYZZZZYI', 'IIIXXIIYZZZZYI', 'IIIYYIIXZZZZXI', 'IIIXXIIXZZZZXI', 'IYZZYIIYZZZZYI', 'IXZZXIIYZZZZYI', 'IYZZYIIXZZZZXI', 'IXZZXIIXZZZZXI', 'YZZYIIIYZZZZYI', 'XZZXIIIYZZZZYI', 'YZZYIIIXZZZZXI', 'XZZXIIIXZZZZXI', 'YYIIIIIYZZZZYI', 'XXIIIIIYZZZZYI', 'YYIIIIIXZZZZXI', 'XXIIIIIXZZZZXI', 'IIIIIIIIIIZZII', 'IIIIIIIIYZYZII', 'IIIIIIIIXZXZII', 'IIIIIIIIIZIZII', 'IIIIIIIIZIIZII', 'IIIIIIIZIIIZII', 'IIIIIIZIIIIZII', 'IIIIIYYIIIIZII', 'IIIIIXXIIIIZII', 'IIIYZZYIIIIZII', 'IIIXZZXIIIIZII', 'IYZZZZYIIIIZII', 'IXZZZZXIIIIZII', 'IIIIIZIIIIIZII', 'IIIYZYIIIIIZII', 'IIIXZXIIIIIZII', 'IYZZZYIIIIIZII', 'IXZZZXIIIIIZII', 'IIIIZIIIIIIZII', 'YZZZYIIIIIIZII', 'XZZZXIIIIIIZII', 'IIIZIIIIIIIZII', 'IYZYIIIIIIIZII', 'IXZXIIIIIIIZII', 'IIZIIIIIIIIZII', 'IZIIIIIIIIIZII', 'ZIIIIIIIIIIZII', 'IIIIIIIYZZIYII', 'IIIIIIIXZZIXII', 'IIIIIIIYYIYYII', 'IIIIIIIXXIYYII', 'IIIIIIIYXIXYII', 'IIIIIIIXYIYXII', 'IIIIIIIYYIXXII', 'IIIIIIIXXIXXII', 'IIIIYZYIIIYYII', 'IIIIXZXIIIYYII', 'IIIIYZYIIIXXII', 'IIIIXZXIIIXXII', 'YZZZZZYIIIYYII', 'XZZZZZXIIIYYII', 'YZZZZZYIIIXXII', 'XZZZZZXIIIXXII', 'IIIIYYIIIIYYII', 'IIIIXXIIIIYYII', 'IIIIYYIIIIXXII', 'IIIIXXIIIIXXII', 'YZZZZYIIIIYYII', 'XZZZZXIIIIYYII', 'YZZZZYIIIIXXII', 'XZZZZXIIIIXXII', 'IIIYYIIIIIYYII', 'IIIXXIIIIIYYII', 'IIIYYIIIIIXXII', 'IIIXXIIIIIXXII', 'IYZZYIIIIIYYII', 'IXZZXIIIIIYYII', 'IYZZYIIIIIXXII', 'IXZZXIIIIIXXII', 'YZZYIIIIIIYYII', 'XZZXIIIIIIYYII', 'YZZYIIIIIIXXII', 'XZZXIIIIIIXXII', 'YYIIIIIIIIYYII', 'XXIIIIIIIIYYII', 'YYIIIIIIIIXXII', 'XXIIIIIIIIXXII', 'IIIIIIIYZIZYII', 'IIIIIIIXZIZXII', 'IIYZYIIIIYZYII', 'IIXZXIIIIYZYII', 'IIYZYIIIIXZXII', 'IIXZXIIIIXZXII', 'YZYIIIIIIYZYII', 'XZXIIIIIIYZYII', 'YZYIIIIIIXZXII', 'XZXIIIIIIXZXII', 'IIIIIIIYIZZYII', 'IIIIIIIXIZZXII', 'IIIIYZYIYZZYII', 'IIIIXZXIYZZYII', 'IIIIYZYIXZZXII', 'IIIIXZXIXZZXII', 'YZZZZZYIYZZYII', 'XZZZZZXIYZZYII', 'YZZZZZYIXZZXII', 'XZZZZZXIXZZXII', 'IIIIYYIIYZZYII', 'IIIIXXIIYZZYII', 'IIIIYYIIXZZXII', 'IIIIXXIIXZZXII', 'YZZZZYIIYZZYII', 'XZZZZXIIYZZYII', 'YZZZZYIIXZZXII', 'XZZZZXIIXZZXII', 'IIIYYIIIYZZYII', 'IIIXXIIIYZZYII', 'IIIYYIIIXZZXII', 'IIIXXIIIXZZXII', 'IYZZYIIIYZZYII', 'IXZZXIIIYZZYII', 'IYZZYIIIXZZXII', 'IXZZXIIIXZZXII', 'YZZYIIIIYZZYII', 'XZZXIIIIYZZYII', 'YZZYIIIIXZZXII', 'XZZXIIIIXZZXII', 'YYIIIIIIYZZYII', 'XXIIIIIIYZZYII', 'YYIIIIIIXZZXII', 'XXIIIIIIXZZXII', 'IIIIIIZYZZZYII', 'IIIIIIZXZZZXII', 'IIIIIYYYZZZYII', 'IIIIIXXYZZZYII', 'IIIIIYYXZZZXII', 'IIIIIXXXZZZXII', 'IIIYZZYYZZZYII', 'IIIXZZXYZZZYII', 'IIIYZZYXZZZXII', 'IIIXZZXXZZZXII', 'IYZZZZYYZZZYII', 'IXZZZZXYZZZYII', 'IYZZZZYXZZZXII', 'IXZZZZXXZZZXII', 'IIIIIZIYZZZYII', 'IIIIIZIXZZZXII', 'IIIYZYIYZZZYII', 'IIIXZXIYZZZYII', 'IIIYZYIXZZZXII', 'IIIXZXIXZZZXII', 'IYZZZYIYZZZYII', 'IXZZZXIYZZZYII', 'IYZZZYIXZZZXII', 'IXZZZXIXZZZXII', 'IIIIZIIYZZZYII', 'IIIIZIIXZZZXII', 'YZZZYIIYZZZYII', 'XZZZXIIYZZZYII', 'YZZZYIIXZZZXII', 'XZZZXIIXZZZXII', 'IIIZIIIYZZZYII', 'IIIZIIIXZZZXII', 'IYZYIIIYZZZYII', 'IXZXIIIYZZZYII', 'IYZYIIIXZZZXII', 'IXZXIIIXZZZXII', 'IIZIIIIYZZZYII', 'IIZIIIIXZZZXII', 'IZIIIIIYZZZYII', 'IZIIIIIXZZZXII', 'ZIIIIIIYZZZYII', 'ZIIIIIIXZZZXII', 'IIIIIIIIIZZIII', 'IIIIIIIIZIZIII', 'IIIIIIIZIIZIII', 'IIIIIIZIIIZIII', 'IIIIIYYIIIZIII', 'IIIIIXXIIIZIII', 'IIIYZZYIIIZIII', 'IIIXZZXIIIZIII', 'IYZZZZYIIIZIII', 'IXZZZZXIIIZIII', 'IIIIIZIIIIZIII', 'IIIYZYIIIIZIII', 'IIIXZXIIIIZIII', 'IYZZZYIIIIZIII', 'IXZZZXIIIIZIII', 'IIIIZIIIIIZIII', 'YZZZYIIIIIZIII', 'XZZZXIIIIIZIII', 'IIIZIIIIIIZIII', 'IYZYIIIIIIZIII', 'IXZXIIIIIIZIII', 'IIZIIIIIIIZIII', 'IZIIIIIIIIZIII', 'ZIIIIIIIIIZIII', 'IIIIIIIIYIYIII', 'IIIIIIIIXIXIII', 'IIYZZZYIIYYIII', 'IIXZZZXIIYYIII', 'IIYZZZYIIXXIII', 'IIXZZZXIIXXIII', 'IIYZZYIIIYYIII', 'IIXZZXIIIYYIII', 'IIYZZYIIIXXIII', 'IIXZZXIIIXXIII', 'IIYYIIIIIYYIII', 'IIXXIIIIIYYIII', 'IIYYIIIIIXXIII', 'IIXXIIIIIXXIII', 'IYYIIIIIIYYIII', 'IXXIIIIIIYYIII', 'IYYIIIIIIXXIII', 'IXXIIIIIIXXIII', 'IIIIIIIZYZYIII', 'IIIIIIIZXZXIII', 'IIIIIIZIYZYIII', 'IIIIIIZIXZXIII', 'IIIIIYYIYZYIII', 'IIIIIXXIYZYIII', 'IIIIIYYIXZXIII', 'IIIIIXXIXZXIII', 'IIIYZZYIYZYIII', 'IIIXZZXIYZYIII', 'IIIYZZYIXZXIII', 'IIIXZZXIXZXIII', 'IYZZZZYIYZYIII', 'IXZZZZXIYZYIII', 'IYZZZZYIXZXIII', 'IXZZZZXIXZXIII', 'IIIIIZIIYZYIII', 'IIIIIZIIXZXIII', 'IIIYZYIIYZYIII', 'IIIXZXIIYZYIII', 'IIIYZYIIXZXIII', 'IIIXZXIIXZXIII', 'IYZZZYIIYZYIII', 'IXZZZXIIYZYIII', 'IYZZZYIIXZXIII', 'IXZZZXIIXZXIII', 'IIIIZIIIYZYIII', 'IIIIZIIIXZXIII', 'YZZZYIIIYZYIII', 'XZZZXIIIYZYIII', 'YZZZYIIIXZXIII', 'XZZZXIIIXZXIII', 'IIIZIIIIYZYIII', 'IIIZIIIIXZXIII', 'IYZYIIIIYZYIII', 'IXZXIIIIYZYIII', 'IYZYIIIIXZXIII', 'IXZXIIIIXZXIII', 'IIZIIIIIYZYIII', 'IIZIIIIIXZXIII', 'IZIIIIIIYZYIII', 'IZIIIIIIXZXIII', 'ZIIIIIIIYZYIII', 'ZIIIIIIIXZXIII', 'IIIIYZYYZZYIII', 'IIIIXZXYZZYIII', 'IIIIYZYXZZXIII', 'IIIIXZXXZZXIII', 'YZZZZZYYZZYIII', 'XZZZZZXYZZYIII', 'YZZZZZYXZZXIII', 'XZZZZZXXZZXIII', 'IIIIYYIYZZYIII', 'IIIIXXIYZZYIII', 'IIIIYYIXZZXIII', 'IIIIXXIXZZXIII', 'YZZZZYIYZZYIII', 'XZZZZXIYZZYIII', 'YZZZZYIXZZXIII', 'XZZZZXIXZZXIII', 'IIIYYIIYZZYIII', 'IIIXXIIYZZYIII', 'IIIYYIIXZZXIII', 'IIIXXIIXZZXIII', 'IYZZYIIYZZYIII', 'IXZZXIIYZZYIII', 'IYZZYIIXZZXIII', 'IXZZXIIXZZXIII', 'YZZYIIIYZZYIII', 'XZZXIIIYZZYIII', 'YZZYIIIXZZXIII', 'XZZXIIIXZZXIII', 'YYIIIIIYZZYIII', 'XXIIIIIYZZYIII', 'YYIIIIIXZZXIII', 'XXIIIIIXZZXIII', 'IIIIIIIIZZIIII', 'IIIIIIIZIZIIII', 'IIIIIIZIIZIIII', 'IIIIIYYIIZIIII', 'IIIIIXXIIZIIII', 'IIIYZZYIIZIIII', 'IIIXZZXIIZIIII', 'IYZZZZYIIZIIII', 'IXZZZZXIIZIIII', 'IIIIIZIIIZIIII', 'IIIYZYIIIZIIII', 'IIIXZXIIIZIIII', 'IYZZZYIIIZIIII', 'IXZZZXIIIZIIII', 'IIIIZIIIIZIIII', 'YZZZYIIIIZIIII', 'XZZZXIIIIZIIII', 'IIIZIIIIIZIIII', 'IYZYIIIIIZIIII', 'IXZXIIIIIZIIII', 'IIZIIIIIIZIIII', 'IZIIIIIIIZIIII', 'ZIIIIIIIIZIIII', 'IIYZZZYIYYIIII', 'IIXZZZXIYYIIII', 'IIYZZZYIXXIIII', 'IIXZZZXIXXIIII', 'IIYZZYIIYYIIII', 'IIXZZXIIYYIIII', 'IIYZZYIIXXIIII', 'IIXZZXIIXXIIII', 'IIYYIIIIYYIIII', 'IIXXIIIIYYIIII', 'IIYYIIIIXXIIII', 'IIXXIIIIXXIIII', 'IYYIIIIIYYIIII', 'IXXIIIIIYYIIII', 'IYYIIIIIXXIIII', 'IXXIIIIIXXIIII', 'IIYZYIIYZYIIII', 'IIXZXIIYZYIIII', 'IIYZYIIXZXIIII', 'IIXZXIIXZXIIII', 'YZYIIIIYZYIIII', 'XZXIIIIYZYIIII', 'YZYIIIIXZXIIII', 'XZXIIIIXZXIIII', 'IIIIIIIZZIIIII', 'IIIIIIZIZIIIII', 'IIIIIYYIZIIIII', 'IIIIIXXIZIIIII', 'IIIYZZYIZIIIII', 'IIIXZZXIZIIIII', 'IYZZZZYIZIIIII', 'IXZZZZXIZIIIII', 'IIIIIZIIZIIIII', 'IIIYZYIIZIIIII', 'IIIXZXIIZIIIII', 'IYZZZYIIZIIIII', 'IXZZZXIIZIIIII', 'IIIIZIIIZIIIII', 'YZZZYIIIZIIIII', 'XZZZXIIIZIIIII', 'IIIZIIIIZIIIII', 'IYZYIIIIZIIIII', 'IXZXIIIIZIIIII', 'IIZIIIIIZIIIII', 'IZIIIIIIZIIIII', 'ZIIIIIIIZIIIII', 'IIIIYZYYYIIIII', 'IIIIXZXYYIIIII', 'IIIIYZYXXIIIII', 'IIIIXZXXXIIIII', 'YZZZZZYYYIIIII', 'XZZZZZXYYIIIII', 'YZZZZZYXXIIIII', 'XZZZZZXXXIIIII', 'IIIIYYIYYIIIII', 'IIIIXXIYYIIIII', 'IIIIYYIXXIIIII', 'IIIIXXIXXIIIII', 'YZZZZYIYYIIIII', 'XZZZZXIYYIIIII', 'YZZZZYIXXIIIII', 'XZZZZXIXXIIIII', 'IIIYYIIYYIIIII', 'IIIXXIIYYIIIII', 'IIIYYIIXXIIIII', 'IIIXXIIXXIIIII', 'IYZZYIIYYIIIII', 'IXZZXIIYYIIIII', 'IYZZYIIXXIIIII', 'IXZZXIIXXIIIII', 'YZZYIIIYYIIIII', 'XZZXIIIYYIIIII', 'YZZYIIIXXIIIII', 'XZZXIIIXXIIIII', 'YYIIIIIYYIIIII', 'XXIIIIIYYIIIII', 'YYIIIIIXXIIIII', 'XXIIIIIXXIIIII', 'IIIIIIZZIIIIII', 'IIIIIYYZIIIIII', 'IIIIIXXZIIIIII', 'IIIYZZYZIIIIII', 'IIIXZZXZIIIIII', 'IYZZZZYZIIIIII', 'IXZZZZXZIIIIII', 'IIIIIZIZIIIIII', 'IIIYZYIZIIIIII', 'IIIXZXIZIIIIII', 'IYZZZYIZIIIIII', 'IXZZZXIZIIIIII', 'IIIIZIIZIIIIII', 'YZZZYIIZIIIIII', 'XZZZXIIZIIIIII', 'IIIZIIIZIIIIII', 'IYZYIIIZIIIIII', 'IXZXIIIZIIIIII', 'IIZIIIIZIIIIII', 'IZIIIIIZIIIIII', 'ZIIIIIIZIIIIII', 'IIIIIZZIIIIIII', 'IIIYZYZIIIIIII', 'IIIXZXZIIIIIII', 'IYZZZYZIIIIIII', 'IXZZZXZIIIIIII', 'IIIIZIZIIIIIII', 'YZZZYIZIIIIIII', 'XZZZXIZIIIIIII', 'IIIZIIZIIIIIII', 'IYZYIIZIIIIIII', 'IXZXIIZIIIIIII', 'IIZIIIZIIIIIII', 'IZIIIIZIIIIIII', 'ZIIIIIZIIIIIII', 'IIIYZIYIIIIIII', 'IIIXZIXIIIIIII', 'IYZZZIYIIIIIII', 'IXZZZIXIIIIIII', 'IIIIZYYIIIIIII', 'IIIIZXXIIIIIII', 'YZZZYYYIIIIIII', 'XZZZXYYIIIIIII', 'YZZZXXYIIIIIII', 'XZZZYYXIIIIIII', 'YZZZYXXIIIIIII', 'XZZZXXXIIIIIII', 'IIIZIYYIIIIIII', 'IIIZIXXIIIIIII', 'IYZYIYYIIIIIII', 'IXZXIYYIIIIIII', 'IYZXIXYIIIIIII', 'IXZYIYXIIIIIII', 'IYZYIXXIIIIIII', 'IXZXIXXIIIIIII', 'IIZIIYYIIIIIII', 'IIZIIXXIIIIIII', 'IZIIIYYIIIIIII', 'IZIIIXXIIIIIII', 'ZIIIIYYIIIIIII', 'ZIIIIXXIIIIIII', 'IIIYIZYIIIIIII', 'IIIXIZXIIIIIII', 'IYZZIZYIIIIIII', 'IXZZIZXIIIIIII', 'YZZYYZYIIIIIII', 'XZZXYZYIIIIIII', 'YZZXXZYIIIIIII', 'XZZYYZXIIIIIII', 'YZZYXZXIIIIIII', 'XZZXXZXIIIIIII', 'YYIIYZYIIIIIII', 'XXIIYZYIIIIIII', 'YXIIXZYIIIIIII', 'XYIIYZXIIIIIII', 'YYIIXZXIIIIIII', 'XXIIXZXIIIIIII', 'IYZIZZYIIIIIII', 'IXZIZZXIIIIIII', 'IIZYZZYIIIIIII', 'IIZXZZXIIIIIII', 'IZIYZZYIIIIIII', 'IZIXZZXIIIIIII', 'ZIIYZZYIIIIIII', 'ZIIXZZXIIIIIII', 'IYIZZZYIIIIIII', 'IXIZZZXIIIIIII', 'ZYZZZZYIIIIIII', 'ZXZZZZXIIIIIII', 'IIIIZZIIIIIIII', 'YZZZYZIIIIIIII', 'XZZZXZIIIIIIII', 'IIIZIZIIIIIIII', 'IYZYIZIIIIIIII', 'IXZXIZIIIIIIII', 'IIZIIZIIIIIIII', 'IZIIIZIIIIIIII', 'ZIIIIZIIIIIIII', 'IIIYIYIIIIIIII', 'IIIXIXIIIIIIII', 'IYZZIYIIIIIIII', 'IXZZIXIIIIIIII', 'YZZYYYIIIIIIII', 'XZZXYYIIIIIIII', 'YZZXXYIIIIIIII', 'XZZYYXIIIIIIII', 'YZZYXXIIIIIIII', 'XZZXXXIIIIIIII', 'YYIIYYIIIIIIII', 'XXIIYYIIIIIIII', 'YXIIXYIIIIIIII', 'XYIIYXIIIIIIII', 'YYIIXXIIIIIIII', 'XXIIXXIIIIIIII', 'IYZIZYIIIIIIII', 'IXZIZXIIIIIIII', 'IIZYZYIIIIIIII', 'IIZXZXIIIIIIII', 'IZIYZYIIIIIIII', 'IZIXZXIIIIIIII', 'ZIIYZYIIIIIIII', 'ZIIXZXIIIIIIII', 'IYIZZYIIIIIIII', 'IXIZZXIIIIIIII', 'ZYZZZYIIIIIIII', 'ZXZZZXIIIIIIII', 'IIIZZIIIIIIIII', 'IYZYZIIIIIIIII', 'IXZXZIIIIIIIII', 'IIZIZIIIIIIIII', 'IZIIZIIIIIIIII', 'ZIIIZIIIIIIIII', 'YZZIYIIIIIIIII', 'XZZIXIIIIIIIII', 'YYIYYIIIIIIIII', 'XXIYYIIIIIIIII', 'YXIXYIIIIIIIII', 'XYIYXIIIIIIIII', 'YYIXXIIIIIIIII', 'XXIXXIIIIIIIII', 'YZIZYIIIIIIIII', 'XZIZXIIIIIIIII', 'YIZZYIIIIIIIII', 'XIZZXIIIIIIIII', 'IIZZIIIIIIIIII', 'IZIZIIIIIIIIII', 'ZIIZIIIIIIIIII', 'IYIYIIIIIIIIII', 'IXIXIIIIIIIIII', 'ZYZYIIIIIIIIII', 'ZXZXIIIIIIIIII', 'IZZIIIIIIIIIII', 'ZIZIIIIIIIIIII', 'ZZIIIIIIIIIIII'],\n",
      "              coeffs=[-55.61460307+0.j,  12.41351635+0.j,   0.12505756+0.j, ...,\n",
      "   0.13758739+0.j,   0.15017594+0.j,   0.112754  +0.j])\n",
      "<class 'qiskit.quantum_info.operators.symplectic.sparse_pauli_op.SparsePauliOp'>\n"
     ]
    }
   ],
   "source": [
    "print(qubit_hamiltonian)\n",
    "print(type(qubit_hamiltonian))\n",
    "hamiltonian=qubit_hamiltonian\n",
    "#hamiltonian = SparsePauliOp.from_op(qubit_hamiltonian)\n",
    "\n",
    "# hamiltonian = SparsePauliOp.from_list(\n",
    "#     [(\"YZ\", 0.3980), (\"ZI\", -0.3980), (\"ZZ\", -0.0113), (\"XX\", 0.1810)]\n",
    "# )"
   ]
  },
  {
   "cell_type": "code",
   "execution_count": 18,
   "id": "59bffe5e",
   "metadata": {
    "tags": []
   },
   "outputs": [],
   "source": [
    "ansatz = EfficientSU2(hamiltonian.num_qubits)"
   ]
  },
  {
   "cell_type": "code",
   "execution_count": 20,
   "id": "aa325696",
   "metadata": {
    "tags": []
   },
   "outputs": [
    {
     "data": {
      "text/plain": [
       "112"
      ]
     },
     "execution_count": 20,
     "metadata": {},
     "output_type": "execute_result"
    }
   ],
   "source": [
    "num_params = ansatz.num_parameters\n",
    "num_params"
   ]
  },
  {
   "cell_type": "code",
   "execution_count": 21,
   "id": "1834cb22",
   "metadata": {
    "tags": []
   },
   "outputs": [],
   "source": [
    "from qiskit.transpiler.preset_passmanagers import generate_preset_pass_manager\n",
    "\n",
    "target = backend.target\n",
    "pm = generate_preset_pass_manager(target=target, optimization_level=3)\n",
    "\n",
    "ansatz_isa = pm.run(ansatz)"
   ]
  },
  {
   "cell_type": "markdown",
   "id": "aab9e309-d643-496f-ad4b-c90173102ad6",
   "metadata": {},
   "source": [
    "### ISA observable\n"
   ]
  },
  {
   "cell_type": "code",
   "execution_count": 22,
   "id": "3451901c",
   "metadata": {
    "tags": []
   },
   "outputs": [],
   "source": [
    "hamiltonian_isa = hamiltonian.apply_layout(layout=ansatz_isa.layout)"
   ]
  },
  {
   "cell_type": "code",
   "execution_count": 26,
   "id": "b22a1b00",
   "metadata": {
    "tags": []
   },
   "outputs": [],
   "source": [
    "cost_history_dict = {\n",
    "    \"prev_vector\": None,\n",
    "    \"iters\": 0,\n",
    "    \"cost_history\": [],\n",
    "}\n",
    "\n",
    "def cost_func(params, ansatz, hamiltonian, estimator, max_iters=10):\n",
    "    \"\"\"Return estimate of energy from estimator\n",
    "\n",
    "    Parameters:\n",
    "        params (ndarray): Array of ansatz parameters\n",
    "        ansatz (QuantumCircuit): Parameterized ansatz circuit\n",
    "        hamiltonian (SparsePauliOp): Operator representation of Hamiltonian\n",
    "        estimator (EstimatorV2): Estimator primitive instance\n",
    "        cost_history_dict: Dictionary for storing intermediate results\n",
    "\n",
    "    Returns:\n",
    "        float: Energy estimate\n",
    "    \"\"\"\n",
    "    if cost_history_dict[\"iters\"] >= max_iters:\n",
    "        print(f\"max iter.\")\n",
    "        return cost_history_dict[\"cost_history\"][-1]\n",
    "    \n",
    "    pub = (ansatz, [hamiltonian], [params])\n",
    "    result = estimator.run(pubs=[pub]).result()\n",
    "    energy = result[0].data.evs[0]\n",
    "\n",
    "    cost_history_dict[\"iters\"] += 1\n",
    "    cost_history_dict[\"prev_vector\"] = params\n",
    "    cost_history_dict[\"cost_history\"].append(energy)\n",
    "    #print(f\"Iters. done: {cost_history_dict['iters']} [Current cost: {energy}]\")\n",
    "\n",
    "    return energy"
   ]
  },
  {
   "cell_type": "code",
   "execution_count": 27,
   "id": "d6b90cca",
   "metadata": {
    "tags": []
   },
   "outputs": [],
   "source": [
    "x0 = 2 * np.pi * np.random.random(num_params)"
   ]
  },
  {
   "cell_type": "code",
   "execution_count": 28,
   "id": "d4587c1d-5d59-47aa-b36c-b6d07b5f84e4",
   "metadata": {
    "tags": []
   },
   "outputs": [
    {
     "data": {
      "text/plain": [
       "array([2.33339579, 1.38980993, 5.56606121, 0.94012453, 0.37406898,\n",
       "       6.00693736, 4.5350989 , 2.14397538, 2.02986092, 5.57803543,\n",
       "       3.27227333, 5.35234695, 3.81049911, 2.20289283, 2.4726176 ,\n",
       "       4.82408018, 0.29966231, 4.76837719, 1.54194883, 4.46557166,\n",
       "       5.13435462, 5.78473155, 0.34762651, 4.88085531, 2.1537556 ,\n",
       "       2.62352752, 2.05932231, 4.50506189, 3.40911728, 3.90042599,\n",
       "       4.44494074, 5.06072015, 1.19268224, 3.74638083, 2.00576935,\n",
       "       2.86502683, 3.14502472, 0.82154107, 4.22660574, 3.69647036,\n",
       "       5.07454422, 5.51188304, 2.5401033 , 2.28230677, 4.7673244 ,\n",
       "       0.39941322, 0.92635305, 0.01963485, 2.6807701 , 4.49826522,\n",
       "       2.29886146, 2.7218021 , 2.55957054, 4.876838  , 1.0699734 ,\n",
       "       4.85731907, 2.78973769, 4.40235023, 0.14102515, 3.5552049 ,\n",
       "       3.04259707, 1.29666858, 2.0033172 , 1.47165066, 4.29088445,\n",
       "       5.62409579, 5.31281663, 1.67089564, 4.44378061, 5.22879831,\n",
       "       5.55454174, 1.67655238, 0.2007064 , 0.86422045, 3.2189879 ,\n",
       "       4.08628367, 2.06777214, 3.07966851, 0.67660697, 0.11941477,\n",
       "       1.16908053, 4.17814402, 2.11195915, 5.50582933, 6.21560779,\n",
       "       2.81112207, 3.52459466, 0.80488104, 4.90904875, 5.94265076,\n",
       "       2.66619065, 2.05404972, 2.34224436, 3.3352512 , 0.54533477,\n",
       "       5.33557103, 4.30913515, 2.06613628, 5.99967412, 1.22376196,\n",
       "       6.01092734, 1.27955611, 4.12376315, 1.72434071, 5.78660314,\n",
       "       1.96771558, 3.19875933, 1.01316754, 0.40842059, 4.84225906,\n",
       "       2.01623674, 4.20953676])"
      ]
     },
     "execution_count": 28,
     "metadata": {},
     "output_type": "execute_result"
    }
   ],
   "source": [
    "x0"
   ]
  },
  {
   "cell_type": "code",
   "execution_count": null,
   "id": "61a802d2-5c58-4495-a617-f15fabef367e",
   "metadata": {},
   "outputs": [],
   "source": [
    "with Session(backend=backend) as session:\n",
    "    estimator = Estimator(mode=session)\n",
    "    estimator.options.default_shots = 10000\n",
    "\n",
    "    res = minimize(\n",
    "        cost_func,\n",
    "        x0,\n",
    "        args=(ansatz_isa, hamiltonian_isa, estimator),\n",
    "        method=\"cobyla\",\n",
    "    )"
   ]
  },
  {
   "cell_type": "code",
   "execution_count": 30,
   "id": "4e76845a-3fa0-4d12-86b5-de5b2bdee86c",
   "metadata": {
    "tags": []
   },
   "outputs": [
    {
     "name": "stdout",
     "output_type": "stream",
     "text": [
      "10 iters optimization: 73.62959421\n"
     ]
    }
   ],
   "source": [
    "res"
   ]
  },
  {
   "cell_type": "code",
   "execution_count": null,
   "id": "3433f812-54eb-4833-ac7b-175172d38dbe",
   "metadata": {},
   "outputs": [],
   "source": []
  }
 ],
 "metadata": {
  "availableInstances": [
   {
    "_defaultOrder": 0,
    "_isFastLaunch": true,
    "category": "General purpose",
    "gpuNum": 0,
    "hideHardwareSpecs": false,
    "memoryGiB": 4,
    "name": "ml.t3.medium",
    "vcpuNum": 2
   },
   {
    "_defaultOrder": 1,
    "_isFastLaunch": false,
    "category": "General purpose",
    "gpuNum": 0,
    "hideHardwareSpecs": false,
    "memoryGiB": 8,
    "name": "ml.t3.large",
    "vcpuNum": 2
   },
   {
    "_defaultOrder": 2,
    "_isFastLaunch": false,
    "category": "General purpose",
    "gpuNum": 0,
    "hideHardwareSpecs": false,
    "memoryGiB": 16,
    "name": "ml.t3.xlarge",
    "vcpuNum": 4
   },
   {
    "_defaultOrder": 3,
    "_isFastLaunch": false,
    "category": "General purpose",
    "gpuNum": 0,
    "hideHardwareSpecs": false,
    "memoryGiB": 32,
    "name": "ml.t3.2xlarge",
    "vcpuNum": 8
   },
   {
    "_defaultOrder": 4,
    "_isFastLaunch": true,
    "category": "General purpose",
    "gpuNum": 0,
    "hideHardwareSpecs": false,
    "memoryGiB": 8,
    "name": "ml.m5.large",
    "vcpuNum": 2
   },
   {
    "_defaultOrder": 5,
    "_isFastLaunch": false,
    "category": "General purpose",
    "gpuNum": 0,
    "hideHardwareSpecs": false,
    "memoryGiB": 16,
    "name": "ml.m5.xlarge",
    "vcpuNum": 4
   },
   {
    "_defaultOrder": 6,
    "_isFastLaunch": false,
    "category": "General purpose",
    "gpuNum": 0,
    "hideHardwareSpecs": false,
    "memoryGiB": 32,
    "name": "ml.m5.2xlarge",
    "vcpuNum": 8
   },
   {
    "_defaultOrder": 7,
    "_isFastLaunch": false,
    "category": "General purpose",
    "gpuNum": 0,
    "hideHardwareSpecs": false,
    "memoryGiB": 64,
    "name": "ml.m5.4xlarge",
    "vcpuNum": 16
   },
   {
    "_defaultOrder": 8,
    "_isFastLaunch": false,
    "category": "General purpose",
    "gpuNum": 0,
    "hideHardwareSpecs": false,
    "memoryGiB": 128,
    "name": "ml.m5.8xlarge",
    "vcpuNum": 32
   },
   {
    "_defaultOrder": 9,
    "_isFastLaunch": false,
    "category": "General purpose",
    "gpuNum": 0,
    "hideHardwareSpecs": false,
    "memoryGiB": 192,
    "name": "ml.m5.12xlarge",
    "vcpuNum": 48
   },
   {
    "_defaultOrder": 10,
    "_isFastLaunch": false,
    "category": "General purpose",
    "gpuNum": 0,
    "hideHardwareSpecs": false,
    "memoryGiB": 256,
    "name": "ml.m5.16xlarge",
    "vcpuNum": 64
   },
   {
    "_defaultOrder": 11,
    "_isFastLaunch": false,
    "category": "General purpose",
    "gpuNum": 0,
    "hideHardwareSpecs": false,
    "memoryGiB": 384,
    "name": "ml.m5.24xlarge",
    "vcpuNum": 96
   },
   {
    "_defaultOrder": 12,
    "_isFastLaunch": false,
    "category": "General purpose",
    "gpuNum": 0,
    "hideHardwareSpecs": false,
    "memoryGiB": 8,
    "name": "ml.m5d.large",
    "vcpuNum": 2
   },
   {
    "_defaultOrder": 13,
    "_isFastLaunch": false,
    "category": "General purpose",
    "gpuNum": 0,
    "hideHardwareSpecs": false,
    "memoryGiB": 16,
    "name": "ml.m5d.xlarge",
    "vcpuNum": 4
   },
   {
    "_defaultOrder": 14,
    "_isFastLaunch": false,
    "category": "General purpose",
    "gpuNum": 0,
    "hideHardwareSpecs": false,
    "memoryGiB": 32,
    "name": "ml.m5d.2xlarge",
    "vcpuNum": 8
   },
   {
    "_defaultOrder": 15,
    "_isFastLaunch": false,
    "category": "General purpose",
    "gpuNum": 0,
    "hideHardwareSpecs": false,
    "memoryGiB": 64,
    "name": "ml.m5d.4xlarge",
    "vcpuNum": 16
   },
   {
    "_defaultOrder": 16,
    "_isFastLaunch": false,
    "category": "General purpose",
    "gpuNum": 0,
    "hideHardwareSpecs": false,
    "memoryGiB": 128,
    "name": "ml.m5d.8xlarge",
    "vcpuNum": 32
   },
   {
    "_defaultOrder": 17,
    "_isFastLaunch": false,
    "category": "General purpose",
    "gpuNum": 0,
    "hideHardwareSpecs": false,
    "memoryGiB": 192,
    "name": "ml.m5d.12xlarge",
    "vcpuNum": 48
   },
   {
    "_defaultOrder": 18,
    "_isFastLaunch": false,
    "category": "General purpose",
    "gpuNum": 0,
    "hideHardwareSpecs": false,
    "memoryGiB": 256,
    "name": "ml.m5d.16xlarge",
    "vcpuNum": 64
   },
   {
    "_defaultOrder": 19,
    "_isFastLaunch": false,
    "category": "General purpose",
    "gpuNum": 0,
    "hideHardwareSpecs": false,
    "memoryGiB": 384,
    "name": "ml.m5d.24xlarge",
    "vcpuNum": 96
   },
   {
    "_defaultOrder": 20,
    "_isFastLaunch": false,
    "category": "General purpose",
    "gpuNum": 0,
    "hideHardwareSpecs": true,
    "memoryGiB": 0,
    "name": "ml.geospatial.interactive",
    "supportedImageNames": [
     "sagemaker-geospatial-v1-0"
    ],
    "vcpuNum": 0
   },
   {
    "_defaultOrder": 21,
    "_isFastLaunch": true,
    "category": "Compute optimized",
    "gpuNum": 0,
    "hideHardwareSpecs": false,
    "memoryGiB": 4,
    "name": "ml.c5.large",
    "vcpuNum": 2
   },
   {
    "_defaultOrder": 22,
    "_isFastLaunch": false,
    "category": "Compute optimized",
    "gpuNum": 0,
    "hideHardwareSpecs": false,
    "memoryGiB": 8,
    "name": "ml.c5.xlarge",
    "vcpuNum": 4
   },
   {
    "_defaultOrder": 23,
    "_isFastLaunch": false,
    "category": "Compute optimized",
    "gpuNum": 0,
    "hideHardwareSpecs": false,
    "memoryGiB": 16,
    "name": "ml.c5.2xlarge",
    "vcpuNum": 8
   },
   {
    "_defaultOrder": 24,
    "_isFastLaunch": false,
    "category": "Compute optimized",
    "gpuNum": 0,
    "hideHardwareSpecs": false,
    "memoryGiB": 32,
    "name": "ml.c5.4xlarge",
    "vcpuNum": 16
   },
   {
    "_defaultOrder": 25,
    "_isFastLaunch": false,
    "category": "Compute optimized",
    "gpuNum": 0,
    "hideHardwareSpecs": false,
    "memoryGiB": 72,
    "name": "ml.c5.9xlarge",
    "vcpuNum": 36
   },
   {
    "_defaultOrder": 26,
    "_isFastLaunch": false,
    "category": "Compute optimized",
    "gpuNum": 0,
    "hideHardwareSpecs": false,
    "memoryGiB": 96,
    "name": "ml.c5.12xlarge",
    "vcpuNum": 48
   },
   {
    "_defaultOrder": 27,
    "_isFastLaunch": false,
    "category": "Compute optimized",
    "gpuNum": 0,
    "hideHardwareSpecs": false,
    "memoryGiB": 144,
    "name": "ml.c5.18xlarge",
    "vcpuNum": 72
   },
   {
    "_defaultOrder": 28,
    "_isFastLaunch": false,
    "category": "Compute optimized",
    "gpuNum": 0,
    "hideHardwareSpecs": false,
    "memoryGiB": 192,
    "name": "ml.c5.24xlarge",
    "vcpuNum": 96
   },
   {
    "_defaultOrder": 29,
    "_isFastLaunch": true,
    "category": "Accelerated computing",
    "gpuNum": 1,
    "hideHardwareSpecs": false,
    "memoryGiB": 16,
    "name": "ml.g4dn.xlarge",
    "vcpuNum": 4
   },
   {
    "_defaultOrder": 30,
    "_isFastLaunch": false,
    "category": "Accelerated computing",
    "gpuNum": 1,
    "hideHardwareSpecs": false,
    "memoryGiB": 32,
    "name": "ml.g4dn.2xlarge",
    "vcpuNum": 8
   },
   {
    "_defaultOrder": 31,
    "_isFastLaunch": false,
    "category": "Accelerated computing",
    "gpuNum": 1,
    "hideHardwareSpecs": false,
    "memoryGiB": 64,
    "name": "ml.g4dn.4xlarge",
    "vcpuNum": 16
   },
   {
    "_defaultOrder": 32,
    "_isFastLaunch": false,
    "category": "Accelerated computing",
    "gpuNum": 1,
    "hideHardwareSpecs": false,
    "memoryGiB": 128,
    "name": "ml.g4dn.8xlarge",
    "vcpuNum": 32
   },
   {
    "_defaultOrder": 33,
    "_isFastLaunch": false,
    "category": "Accelerated computing",
    "gpuNum": 4,
    "hideHardwareSpecs": false,
    "memoryGiB": 192,
    "name": "ml.g4dn.12xlarge",
    "vcpuNum": 48
   },
   {
    "_defaultOrder": 34,
    "_isFastLaunch": false,
    "category": "Accelerated computing",
    "gpuNum": 1,
    "hideHardwareSpecs": false,
    "memoryGiB": 256,
    "name": "ml.g4dn.16xlarge",
    "vcpuNum": 64
   },
   {
    "_defaultOrder": 35,
    "_isFastLaunch": false,
    "category": "Accelerated computing",
    "gpuNum": 1,
    "hideHardwareSpecs": false,
    "memoryGiB": 61,
    "name": "ml.p3.2xlarge",
    "vcpuNum": 8
   },
   {
    "_defaultOrder": 36,
    "_isFastLaunch": false,
    "category": "Accelerated computing",
    "gpuNum": 4,
    "hideHardwareSpecs": false,
    "memoryGiB": 244,
    "name": "ml.p3.8xlarge",
    "vcpuNum": 32
   },
   {
    "_defaultOrder": 37,
    "_isFastLaunch": false,
    "category": "Accelerated computing",
    "gpuNum": 8,
    "hideHardwareSpecs": false,
    "memoryGiB": 488,
    "name": "ml.p3.16xlarge",
    "vcpuNum": 64
   },
   {
    "_defaultOrder": 38,
    "_isFastLaunch": false,
    "category": "Accelerated computing",
    "gpuNum": 8,
    "hideHardwareSpecs": false,
    "memoryGiB": 768,
    "name": "ml.p3dn.24xlarge",
    "vcpuNum": 96
   },
   {
    "_defaultOrder": 39,
    "_isFastLaunch": false,
    "category": "Memory Optimized",
    "gpuNum": 0,
    "hideHardwareSpecs": false,
    "memoryGiB": 16,
    "name": "ml.r5.large",
    "vcpuNum": 2
   },
   {
    "_defaultOrder": 40,
    "_isFastLaunch": false,
    "category": "Memory Optimized",
    "gpuNum": 0,
    "hideHardwareSpecs": false,
    "memoryGiB": 32,
    "name": "ml.r5.xlarge",
    "vcpuNum": 4
   },
   {
    "_defaultOrder": 41,
    "_isFastLaunch": false,
    "category": "Memory Optimized",
    "gpuNum": 0,
    "hideHardwareSpecs": false,
    "memoryGiB": 64,
    "name": "ml.r5.2xlarge",
    "vcpuNum": 8
   },
   {
    "_defaultOrder": 42,
    "_isFastLaunch": false,
    "category": "Memory Optimized",
    "gpuNum": 0,
    "hideHardwareSpecs": false,
    "memoryGiB": 128,
    "name": "ml.r5.4xlarge",
    "vcpuNum": 16
   },
   {
    "_defaultOrder": 43,
    "_isFastLaunch": false,
    "category": "Memory Optimized",
    "gpuNum": 0,
    "hideHardwareSpecs": false,
    "memoryGiB": 256,
    "name": "ml.r5.8xlarge",
    "vcpuNum": 32
   },
   {
    "_defaultOrder": 44,
    "_isFastLaunch": false,
    "category": "Memory Optimized",
    "gpuNum": 0,
    "hideHardwareSpecs": false,
    "memoryGiB": 384,
    "name": "ml.r5.12xlarge",
    "vcpuNum": 48
   },
   {
    "_defaultOrder": 45,
    "_isFastLaunch": false,
    "category": "Memory Optimized",
    "gpuNum": 0,
    "hideHardwareSpecs": false,
    "memoryGiB": 512,
    "name": "ml.r5.16xlarge",
    "vcpuNum": 64
   },
   {
    "_defaultOrder": 46,
    "_isFastLaunch": false,
    "category": "Memory Optimized",
    "gpuNum": 0,
    "hideHardwareSpecs": false,
    "memoryGiB": 768,
    "name": "ml.r5.24xlarge",
    "vcpuNum": 96
   },
   {
    "_defaultOrder": 47,
    "_isFastLaunch": false,
    "category": "Accelerated computing",
    "gpuNum": 1,
    "hideHardwareSpecs": false,
    "memoryGiB": 16,
    "name": "ml.g5.xlarge",
    "vcpuNum": 4
   },
   {
    "_defaultOrder": 48,
    "_isFastLaunch": false,
    "category": "Accelerated computing",
    "gpuNum": 1,
    "hideHardwareSpecs": false,
    "memoryGiB": 32,
    "name": "ml.g5.2xlarge",
    "vcpuNum": 8
   },
   {
    "_defaultOrder": 49,
    "_isFastLaunch": false,
    "category": "Accelerated computing",
    "gpuNum": 1,
    "hideHardwareSpecs": false,
    "memoryGiB": 64,
    "name": "ml.g5.4xlarge",
    "vcpuNum": 16
   },
   {
    "_defaultOrder": 50,
    "_isFastLaunch": false,
    "category": "Accelerated computing",
    "gpuNum": 1,
    "hideHardwareSpecs": false,
    "memoryGiB": 128,
    "name": "ml.g5.8xlarge",
    "vcpuNum": 32
   },
   {
    "_defaultOrder": 51,
    "_isFastLaunch": false,
    "category": "Accelerated computing",
    "gpuNum": 1,
    "hideHardwareSpecs": false,
    "memoryGiB": 256,
    "name": "ml.g5.16xlarge",
    "vcpuNum": 64
   },
   {
    "_defaultOrder": 52,
    "_isFastLaunch": false,
    "category": "Accelerated computing",
    "gpuNum": 4,
    "hideHardwareSpecs": false,
    "memoryGiB": 192,
    "name": "ml.g5.12xlarge",
    "vcpuNum": 48
   },
   {
    "_defaultOrder": 53,
    "_isFastLaunch": false,
    "category": "Accelerated computing",
    "gpuNum": 4,
    "hideHardwareSpecs": false,
    "memoryGiB": 384,
    "name": "ml.g5.24xlarge",
    "vcpuNum": 96
   },
   {
    "_defaultOrder": 54,
    "_isFastLaunch": false,
    "category": "Accelerated computing",
    "gpuNum": 8,
    "hideHardwareSpecs": false,
    "memoryGiB": 768,
    "name": "ml.g5.48xlarge",
    "vcpuNum": 192
   },
   {
    "_defaultOrder": 55,
    "_isFastLaunch": false,
    "category": "Accelerated computing",
    "gpuNum": 8,
    "hideHardwareSpecs": false,
    "memoryGiB": 1152,
    "name": "ml.p4d.24xlarge",
    "vcpuNum": 96
   },
   {
    "_defaultOrder": 56,
    "_isFastLaunch": false,
    "category": "Accelerated computing",
    "gpuNum": 8,
    "hideHardwareSpecs": false,
    "memoryGiB": 1152,
    "name": "ml.p4de.24xlarge",
    "vcpuNum": 96
   },
   {
    "_defaultOrder": 57,
    "_isFastLaunch": false,
    "category": "Accelerated computing",
    "gpuNum": 0,
    "hideHardwareSpecs": false,
    "memoryGiB": 32,
    "name": "ml.trn1.2xlarge",
    "vcpuNum": 8
   },
   {
    "_defaultOrder": 58,
    "_isFastLaunch": false,
    "category": "Accelerated computing",
    "gpuNum": 0,
    "hideHardwareSpecs": false,
    "memoryGiB": 512,
    "name": "ml.trn1.32xlarge",
    "vcpuNum": 128
   },
   {
    "_defaultOrder": 59,
    "_isFastLaunch": false,
    "category": "Accelerated computing",
    "gpuNum": 0,
    "hideHardwareSpecs": false,
    "memoryGiB": 512,
    "name": "ml.trn1n.32xlarge",
    "vcpuNum": 128
   }
  ],
  "instance_type": "ml.r5.4xlarge",
  "kernelspec": {
   "display_name": "Python 3 (Data Science 4.0)",
   "language": "python",
   "name": "python3__SAGEMAKER_INTERNAL__arn:aws:sagemaker:us-east-2:429704687514:image/sagemaker-data-science-311-v1"
  },
  "language_info": {
   "codemirror_mode": {
    "name": "ipython",
    "version": 3
   },
   "file_extension": ".py",
   "mimetype": "text/x-python",
   "name": "python",
   "nbconvert_exporter": "python",
   "pygments_lexer": "ipython3",
   "version": "3.11.9"
  }
 },
 "nbformat": 4,
 "nbformat_minor": 5
}
