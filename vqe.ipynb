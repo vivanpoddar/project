{
 "cells": [
  {
   "cell_type": "markdown",
   "metadata": {},
   "source": [
    "### **quantum eigensolver approach**"
   ]
  },
  {
   "cell_type": "code",
   "execution_count": 1,
   "metadata": {},
   "outputs": [],
   "source": [
    "from qiskit_nature.units import DistanceUnit\n",
    "from qiskit_nature.second_q.drivers import PySCFDriver\n",
    "from qiskit_nature.second_q.mappers import JordanWignerMapper\n",
    "from qiskit_algorithms import VQE\n",
    "from qiskit_algorithms.optimizers import SLSQP\n",
    "from qiskit_nature.second_q.circuit.library import HartreeFock, UCCSD\n",
    "from qiskit.primitives import Estimator\n",
    "from qiskit_nature.second_q.algorithms import GroundStateEigensolver"
   ]
  },
  {
   "cell_type": "markdown",
   "metadata": {},
   "source": [
    "### **Molecule**"
   ]
  },
  {
   "cell_type": "code",
   "execution_count": 2,
   "metadata": {},
   "outputs": [
    {
     "name": "stdout",
     "output_type": "stream",
     "text": [
      "CPU times: user 19 ms, sys: 8.62 ms, total: 27.6 ms\n",
      "Wall time: 42.6 ms\n"
     ]
    }
   ],
   "source": [
    "%%time\n",
    "driver = PySCFDriver(\n",
    "    atom=\"H 0 0 0; H 0 0 0.735\",\n",
    "    #atom=\"O 0 0 0; H 0.757 0.586 0; H -0.757 0.586 0\",\n",
    "    #atom=\"C 0 0 0; H 0.629 0.629 0.629; H -0.629 -0.629 0.629; H -0.629 0.629 -0.629; H 0.629 -0.629 -0.629\",\n",
    "    #atom=\"C 0 0 0; C 1.54 0 0; H 0.629 0.629 0.629; H -0.629 -0.629 0.629; H -0.629 0.629 -0.629; H 2.169 0.629 0.629; H 0.911 -0.629 0.629; H 0.911 0.629 -0.629\",\n",
    "    #atom=\"C 0 0 0; C 1.54 0 0; C 3.08 0 0; H 0.629 0.629 0.629; H -0.629 -0.629 0.629; H -0.629 0.629 -0.629; H 2.169 0.629 0.629; H 0.911 -0.629 0.629; H 0.911 0.629 -0.629; H 3.709 0.629 0.629; H 2.451 -0.629 0.629; H 2.451 0.629 -0.629\",\n",
    "    #atom=\"C 0 0 0; C 1.54 0 0; C 3.08 0 0; C 4.62 0 0; H 0.629 0.629 0.629; H -0.629 -0.629 0.629; H -0.629 0.629 -0.629; H 2.169 0.629 0.629; H 0.911 -0.629 0.629; H 0.911 0.629 -0.629; H 3.709 0.629 0.629; H 2.451 -0.629 0.629; H 2.451 0.629 -0.629; H 5.249 0.629 0.629; H 3.541 -0.629 0.629; H 3.541 0.629 -0.629\",\n",
    "    #atom=\"C 0 0 0; C 1.54 0 0; C 3.08 0 0; C 4.62 0 0; C 6.16 0 0; H 0.629 0.629 0.629; H -0.629 -0.629 0.629; H -0.629 0.629 -0.629; H 2.169 0.629 0.629; H 0.911 -0.629 0.629; H 0.911 0.629 -0.629; H 3.709 0.629 0.629; H 2.451 -0.629 0.629; H 2.451 0.629 -0.629; H 5.249 0.629 0.629; H 3.541 -0.629 0.629; H 3.541 0.629 -0.629; H 6.789 0.629 0.629; H 5.081 -0.629 0.629; H 5.081 0.629 -0.629\",\n",
    "    #atom=\"C 0 0 0; C 1.54 0 0; C 3.08 0 0; C 4.62 0 0; C 6.16 0 0; C 7.7 0 0; H 0.629 0.629 0.629; H -0.629 -0.629 0.629; H -0.629 0.629 -0.629; H 2.169 0.629 0.629; H 0.911 -0.629 0.629; H 0.911 0.629 -0.629; H 3.709 0.629 0.629; H 2.451 -0.629 0.629; H 2.451 0.629 -0.629; H 5.249 0.629 0.629; H 3.541 -0.629 0.629; H 3.541 0.629 -0.629; H 6.789 0.629 0.629; H 5.081 -0.629 0.629; H 5.081 0.629 -0.629; H 8.329 0.629 0.629; H 6.621 -0.629 0.629; H 6.621 0.629 -0.629\",\n",
    "\n",
    "    basis=\"6-31g\",\n",
    "    charge=0,\n",
    "    spin=0,\n",
    "    unit=DistanceUnit.ANGSTROM,\n",
    ")"
   ]
  },
  {
   "cell_type": "markdown",
   "metadata": {},
   "source": [
    "### **Electronic Structure problem**"
   ]
  },
  {
   "cell_type": "code",
   "execution_count": 3,
   "metadata": {},
   "outputs": [
    {
     "name": "stdout",
     "output_type": "stream",
     "text": [
      "<qiskit_nature.second_q.problems.electronic_structure_problem.ElectronicStructureProblem object at 0x12fd0e330>\n",
      "CPU times: user 28.8 ms, sys: 19.4 ms, total: 48.2 ms\n",
      "Wall time: 96 ms\n"
     ]
    }
   ],
   "source": [
    "%%time\n",
    "problem = driver.run()\n",
    "print(problem)"
   ]
  },
  {
   "cell_type": "markdown",
   "metadata": {},
   "source": [
    "### **Initial State for Eigensolver**"
   ]
  },
  {
   "cell_type": "code",
   "execution_count": 4,
   "metadata": {},
   "outputs": [
    {
     "name": "stdout",
     "output_type": "stream",
     "text": [
      "CPU times: user 2.59 ms, sys: 1.04 ms, total: 3.63 ms\n",
      "Wall time: 6.24 ms\n"
     ]
    }
   ],
   "source": [
    "%%time\n",
    "initial_state = HartreeFock(\n",
    "    problem.num_spatial_orbitals,\n",
    "    problem.num_particles,\n",
    "    JordanWignerMapper(),\n",
    ")"
   ]
  },
  {
   "cell_type": "markdown",
   "metadata": {},
   "source": [
    "### **Ansatz for Eigensolver**"
   ]
  },
  {
   "cell_type": "code",
   "execution_count": 5,
   "metadata": {},
   "outputs": [
    {
     "name": "stdout",
     "output_type": "stream",
     "text": [
      "CPU times: user 16 ms, sys: 3.12 ms, total: 19.1 ms\n",
      "Wall time: 18.1 ms\n"
     ]
    }
   ],
   "source": [
    "%%time\n",
    "ansatz = UCCSD(\n",
    "    problem.num_spatial_orbitals,\n",
    "    problem.num_particles,\n",
    "    JordanWignerMapper(),\n",
    "    initial_state=initial_state,\n",
    ")"
   ]
  },
  {
   "cell_type": "code",
   "execution_count": 6,
   "metadata": {},
   "outputs": [
    {
     "name": "stdout",
     "output_type": "stream",
     "text": [
      "CPU times: user 6.54 ms, sys: 1.31 ms, total: 7.85 ms\n",
      "Wall time: 9.39 ms\n"
     ]
    },
    {
     "name": "stderr",
     "output_type": "stream",
     "text": [
      "<timed exec>:1: DeprecationWarning: The class ``qiskit.primitives.estimator.Estimator`` is deprecated as of qiskit 1.2. It will be removed no earlier than 3 months after the release date. All implementations of the `BaseEstimatorV1` interface have been deprecated in favor of their V2 counterparts. The V2 alternative for the `Estimator` class is `StatevectorEstimator`.\n"
     ]
    }
   ],
   "source": [
    "%%time\n",
    "vqe_solver = VQE(Estimator(), ansatz, SLSQP())\n",
    "vqe_solver.initial_point = [0.0] * ansatz.num_parameters"
   ]
  },
  {
   "cell_type": "code",
   "execution_count": 7,
   "metadata": {},
   "outputs": [
    {
     "name": "stdout",
     "output_type": "stream",
     "text": [
      "CPU times: user 7 μs, sys: 1 μs, total: 8 μs\n",
      "Wall time: 9.3 μs\n"
     ]
    }
   ],
   "source": [
    "%%time\n",
    "calc = GroundStateEigensolver(JordanWignerMapper(), vqe_solver)"
   ]
  },
  {
   "cell_type": "markdown",
   "metadata": {},
   "source": [
    "### **Eigensolver Result**"
   ]
  },
  {
   "cell_type": "code",
   "execution_count": 8,
   "metadata": {},
   "outputs": [
    {
     "name": "stdout",
     "output_type": "stream",
     "text": [
      "=== GROUND STATE ENERGY ===\n",
      " \n",
      "* Electronic ground state energy (Hartree): -1.871583225266\n",
      "  - computed part:      -1.871583225266\n",
      "~ Nuclear repulsion energy (Hartree): 0.719968994449\n",
      "> Total ground state energy (Hartree): -1.151614230817\n",
      " \n",
      "=== MEASURED OBSERVABLES ===\n",
      " \n",
      "  0:  # Particles: 2.000 S: 0.000 S^2: 0.000 M: 0.000\n",
      " \n",
      "=== DIPOLE MOMENTS ===\n",
      " \n",
      "~ Nuclear dipole moment (a.u.): [0.0  0.0  1.3889487]\n",
      " \n",
      "  0: \n",
      "  * Electronic dipole moment (a.u.): [0.0  0.0  1.388949773787]\n",
      "    - computed part:      [0.0  0.0  1.388949773787]\n",
      "  > Dipole moment (a.u.): [0.0  0.0  -0.000001073787]  Total: 0.000001073787\n",
      "                 (debye): [0.0  0.0  -0.000002729294]  Total: 0.000002729294\n",
      " \n",
      "CPU times: user 2.64 s, sys: 40.9 ms, total: 2.68 s\n",
      "Wall time: 2.69 s\n"
     ]
    }
   ],
   "source": [
    "%%time\n",
    "result = calc.solve(problem)\n",
    "print(result)"
   ]
  }
 ],
 "metadata": {
  "kernelspec": {
   "display_name": "base",
   "language": "python",
   "name": "python3"
  },
  "language_info": {
   "codemirror_mode": {
    "name": "ipython",
    "version": 3
   },
   "file_extension": ".py",
   "mimetype": "text/x-python",
   "name": "python",
   "nbconvert_exporter": "python",
   "pygments_lexer": "ipython3",
   "version": "3.12.4"
  }
 },
 "nbformat": 4,
 "nbformat_minor": 2
}
