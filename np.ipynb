{
 "cells": [
  {
   "cell_type": "markdown",
   "metadata": {},
   "source": [
    "### **Classical Eigensolver approach**"
   ]
  },
  {
   "cell_type": "code",
   "execution_count": null,
   "metadata": {},
   "outputs": [],
   "source": [
    "from qiskit_nature.units import DistanceUnit\n",
    "from qiskit_nature.second_q.drivers import PySCFDriver\n",
    "from qiskit_algorithms import NumPyMinimumEigensolver\n",
    "from qiskit_nature.second_q.algorithms import GroundStateEigensolver\n",
    "from qiskit_nature.second_q.mappers import JordanWignerMapper\n",
    "from qiskit_nature.units import DistanceUnit\n",
    "from qiskit_nature.second_q.drivers import PySCFDriver\n",
    "from qiskit_algorithms import NumPyMinimumEigensolver\n",
    "from qiskit_nature.second_q.algorithms import GroundStateEigensolver\n",
    "from qiskit_nature.second_q.mappers import JordanWignerMapper"
   ]
  },
  {
   "cell_type": "markdown",
   "metadata": {},
   "source": [
    "### **Molecule**"
   ]
  },
  {
   "cell_type": "code",
   "execution_count": null,
   "metadata": {},
   "outputs": [],
   "source": [
    "%%time\n",
    "driver = PySCFDriver(\n",
    "    atom=\"H 0 0 0; H 0 0 0.735\",\n",
    "    #atom=\"O 0 0 0; H 0.757 0.586 0; H -0.757 0.586 0\",\n",
    "    #atom=\"C 0 0 0; H 0.629 0.629 0.629; H -0.629 -0.629 0.629; H -0.629 0.629 -0.629; H 0.629 -0.629 -0.629\",\n",
    "    #atom=\"C 0 0 0; C 1.54 0 0; H 0.629 0.629 0.629; H -0.629 -0.629 0.629; H -0.629 0.629 -0.629; H 2.169 0.629 0.629; H 0.911 -0.629 0.629; H 0.911 0.629 -0.629\",\n",
    "    #atom=\"C 0 0 0; C 1.54 0 0; C 3.08 0 0; H 0.629 0.629 0.629; H -0.629 -0.629 0.629; H -0.629 0.629 -0.629; H 2.169 0.629 0.629; H 0.911 -0.629 0.629; H 0.911 0.629 -0.629; H 3.709 0.629 0.629; H 2.451 -0.629 0.629; H 2.451 0.629 -0.629\",\n",
    "    #atom=\"C 0 0 0; C 1.54 0 0; C 3.08 0 0; C 4.62 0 0; H 0.629 0.629 0.629; H -0.629 -0.629 0.629; H -0.629 0.629 -0.629; H 2.169 0.629 0.629; H 0.911 -0.629 0.629; H 0.911 0.629 -0.629; H 3.709 0.629 0.629; H 2.451 -0.629 0.629; H 2.451 0.629 -0.629; H 5.249 0.629 0.629; H 3.541 -0.629 0.629; H 3.541 0.629 -0.629\",\n",
    "    #atom=\"C 0 0 0; C 1.54 0 0; C 3.08 0 0; C 4.62 0 0; C 6.16 0 0; H 0.629 0.629 0.629; H -0.629 -0.629 0.629; H -0.629 0.629 -0.629; H 2.169 0.629 0.629; H 0.911 -0.629 0.629; H 0.911 0.629 -0.629; H 3.709 0.629 0.629; H 2.451 -0.629 0.629; H 2.451 0.629 -0.629; H 5.249 0.629 0.629; H 3.541 -0.629 0.629; H 3.541 0.629 -0.629; H 6.789 0.629 0.629; H 5.081 -0.629 0.629; H 5.081 0.629 -0.629\",\n",
    "    #atom=\"C 0 0 0; C 1.54 0 0; C 3.08 0 0; C 4.62 0 0; C 6.16 0 0; C 7.7 0 0; H 0.629 0.629 0.629; H -0.629 -0.629 0.629; H -0.629 0.629 -0.629; H 2.169 0.629 0.629; H 0.911 -0.629 0.629; H 0.911 0.629 -0.629; H 3.709 0.629 0.629; H 2.451 -0.629 0.629; H 2.451 0.629 -0.629; H 5.249 0.629 0.629; H 3.541 -0.629 0.629; H 3.541 0.629 -0.629; H 6.789 0.629 0.629; H 5.081 -0.629 0.629; H 5.081 0.629 -0.629; H 8.329 0.629 0.629; H 6.621 -0.629 0.629; H 6.621 0.629 -0.629\",\n",
    "\n",
    "    basis=\"6-31g\",\n",
    "    charge=0,\n",
    "    spin=0,\n",
    "    unit=DistanceUnit.ANGSTROM,\n",
    ")"
   ]
  },
  {
   "cell_type": "markdown",
   "metadata": {},
   "source": [
    "### **Electronic Structure problem**"
   ]
  },
  {
   "cell_type": "code",
   "execution_count": null,
   "metadata": {},
   "outputs": [],
   "source": [
    "%%time\n",
    "problem = driver.run()\n",
    "print(problem)"
   ]
  },
  {
   "cell_type": "markdown",
   "metadata": {},
   "source": [
    "### **Eigensolver with Jordan-Wigner Mapper**"
   ]
  },
  {
   "cell_type": "code",
   "execution_count": null,
   "metadata": {},
   "outputs": [],
   "source": [
    "%%time\n",
    "solver = GroundStateEigensolver(\n",
    "    JordanWignerMapper(),\n",
    "    NumPyMinimumEigensolver(),\n",
    ")"
   ]
  },
  {
   "cell_type": "markdown",
   "metadata": {},
   "source": [
    "### **Eigensolver Result**"
   ]
  },
  {
   "cell_type": "code",
   "execution_count": null,
   "metadata": {},
   "outputs": [],
   "source": [
    "%%time\n",
    "result = solver.solve(problem)\n",
    "print(result)"
   ]
  }
 ],
 "metadata": {
  "kernelspec": {
   "display_name": "Python 3",
   "language": "python",
   "name": "python3"
  },
  "language_info": {
   "name": "python",
   "version": "3.13.1"
  }
 },
 "nbformat": 4,
 "nbformat_minor": 2
}
